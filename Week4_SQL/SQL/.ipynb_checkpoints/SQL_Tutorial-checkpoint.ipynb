{
 "cells": [
  {
   "cell_type": "code",
   "execution_count": null,
   "metadata": {},
   "outputs": [],
   "source": [
    "# SQL Tutorial\n",
    "# Tutorial 1: https://www.python-course.eu/sql_python.php \n",
    "# Tutorial 2: https://swcarpentry.github.io/sql-novice-survey/10-prog/\n",
    "# Tutorial 3: https://docs.microsoft.com/en-us/sql/advanced-analytics/tutorials/sql-server-python-tutorials?view=sql-server-2017\n"
   ]
  }
 ],
 "metadata": {
  "kernelspec": {
   "display_name": "Python 3",
   "language": "python",
   "name": "python3"
  },
  "language_info": {
   "codemirror_mode": {
    "name": "ipython",
    "version": 3
   },
   "file_extension": ".py",
   "mimetype": "text/x-python",
   "name": "python",
   "nbconvert_exporter": "python",
   "pygments_lexer": "ipython3",
   "version": "3.6.5"
  }
 },
 "nbformat": 4,
 "nbformat_minor": 2
}
