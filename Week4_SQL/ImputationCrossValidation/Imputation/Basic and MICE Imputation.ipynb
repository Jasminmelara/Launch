{
 "cells": [
  {
   "cell_type": "markdown",
   "metadata": {},
   "source": [
    "# Imputation"
   ]
  },
  {
   "cell_type": "code",
   "execution_count": 51,
   "metadata": {},
   "outputs": [
    {
     "name": "stdout",
     "output_type": "stream",
     "text": [
      "<class 'pandas.core.frame.DataFrame'>\n",
      "RangeIndex: 153 entries, 0 to 152\n",
      "Data columns (total 6 columns):\n",
      "Ozone     116 non-null float64\n",
      "SolarR    146 non-null float64\n",
      "Wind      153 non-null float64\n",
      "Temp      153 non-null int64\n",
      "Month     153 non-null int64\n",
      "Day       153 non-null int64\n",
      "dtypes: float64(3), int64(3)\n",
      "memory usage: 7.2 KB\n"
     ]
    }
   ],
   "source": [
    "import numpy as np\n",
    "import pandas as pd\n",
    "\n",
    "# read in data\n",
    "df = pd.read_csv('airquality.csv')\n",
    "\n",
    "# clean up the data a bit\n",
    "df.drop('Unnamed: 0', 1, inplace=True)\n",
    "\n",
    "df.info()"
   ]
  },
  {
   "cell_type": "markdown",
   "metadata": {},
   "source": [
    "# Basic Imputation\n",
    "\n",
    "mean, median, and mode imputation\n",
    "\n",
    "Let's impute the NaN values in the Ozone and SolarR columns…"
   ]
  },
  {
   "cell_type": "code",
   "execution_count": 52,
   "metadata": {},
   "outputs": [
    {
     "name": "stdout",
     "output_type": "stream",
     "text": [
      "<class 'pandas.core.frame.DataFrame'>\n",
      "RangeIndex: 153 entries, 0 to 152\n",
      "Data columns (total 6 columns):\n",
      "Ozone     153 non-null float64\n",
      "SolarR    153 non-null float64\n",
      "Wind      153 non-null float64\n",
      "Temp      153 non-null int64\n",
      "Month     153 non-null int64\n",
      "Day       153 non-null int64\n",
      "dtypes: float64(3), int64(3)\n",
      "memory usage: 7.2 KB\n"
     ]
    }
   ],
   "source": [
    "from sklearn.preprocessing import Imputer # Imputer object from Sklearn\n",
    "\n",
    "# create imputer object\n",
    "imp = Imputer(missing_values = 'NaN', strategy = 'mean')\n",
    "\n",
    "# imputer for Ozone\n",
    "df['Ozone'] = imp.fit_transform(df[['Ozone']])\n",
    "\n",
    "# impute for Solar.R\n",
    "df['SolarR'] = imp.fit_transform(df[['SolarR']])\n",
    "\n",
    "df.info()"
   ]
  },
  {
   "cell_type": "markdown",
   "metadata": {},
   "source": [
    "# MICE Imputation\n",
    "\n",
    "The basic idea of MICE imputation is to treat each variable with missing values as the dependent variable in a regression, with some or all of the remaining variables as its predictors. The MICE procedure cycles through these models, fitting each in turn, then uses a procedure called “predictive mean matching” (PMM) to generate random draws from the predictive distributions determined by the fitted models. These random draws become the imputed values for one imputed data set.\n",
    "\n",
    "First let's reload the dataset so that the NaN's return…"
   ]
  },
  {
   "cell_type": "code",
   "execution_count": 61,
   "metadata": {},
   "outputs": [
    {
     "name": "stdout",
     "output_type": "stream",
     "text": [
      "<class 'pandas.core.frame.DataFrame'>\n",
      "RangeIndex: 153 entries, 0 to 152\n",
      "Data columns (total 6 columns):\n",
      "Ozone     116 non-null float64\n",
      "SolarR    146 non-null float64\n",
      "Wind      153 non-null float64\n",
      "Temp      153 non-null int64\n",
      "Month     153 non-null int64\n",
      "Day       153 non-null int64\n",
      "dtypes: float64(3), int64(3)\n",
      "memory usage: 7.2 KB\n"
     ]
    }
   ],
   "source": [
    "# re-read in data\n",
    "df = pd.read_csv('airquality.csv')\n",
    "\n",
    "# clean up data a bit\n",
    "df.drop('Unnamed: 0', 1, inplace=True)\n",
    "\n",
    "df.info()"
   ]
  },
  {
   "cell_type": "markdown",
   "metadata": {},
   "source": [
    "Let's impute the NaN values in the SolarR column ising MICE imputation…"
   ]
  },
  {
   "cell_type": "code",
   "execution_count": 80,
   "metadata": {
    "scrolled": false
   },
   "outputs": [
    {
     "name": "stderr",
     "output_type": "stream",
     "text": [
      "/anaconda/lib/python3.6/site-packages/pandas/core/indexing.py:179: SettingWithCopyWarning: \n",
      "A value is trying to be set on a copy of a slice from a DataFrame\n",
      "\n",
      "See the caveats in the documentation: http://pandas.pydata.org/pandas-docs/stable/indexing.html#indexing-view-versus-copy\n",
      "  self._setitem_with_indexer(indexer, value)\n"
     ]
    },
    {
     "name": "stdout",
     "output_type": "stream",
     "text": [
      "                           Results: MICE\n",
      "====================================================================\n",
      "Method:                    MICE        Sample size:          153    \n",
      "Model:                     OLS         Scale                 6785.70\n",
      "Dependent variable:        SolarR      Num. imputations      20     \n",
      "--------------------------------------------------------------------\n",
      "           Coef.   Std.Err.    t    P>|t|    [0.025   0.975]   FMI  \n",
      "--------------------------------------------------------------------\n",
      "Intercept  28.8272  82.0542  0.3513 0.7253 -131.9961 189.6505 0.0317\n",
      "Ozone       0.7812   0.3467  2.2529 0.0243    0.1016   1.4608 0.1947\n",
      "Wind        4.7025   2.3494  2.0015 0.0453    0.0977   9.3073 0.0356\n",
      "Temp        2.1554   1.1280  1.9108 0.0560   -0.0555   4.3663 0.0806\n",
      "Month     -10.7031   5.3572 -1.9979 0.0457  -21.2030  -0.2031 0.0131\n",
      "Day        -1.0494   0.7699 -1.3630 0.1729   -2.5584   0.4596 0.0139\n",
      "====================================================================\n",
      "\n"
     ]
    }
   ],
   "source": [
    "from statsmodels.imputation import mice # mice imputer from statsmodels\n",
    "import statsmodels.api as sm # for statsmodels linear regression\n",
    "\n",
    "# Convert our data to a format that the function can handle (this is also the dataset which will be imputed upon)\n",
    "miceData = mice.MICEData(df)\n",
    "\n",
    "# regression formula\n",
    "formula = 'SolarR ~ Ozone + Wind + Temp + Month + Day' # see miceData.conditional_formula to see all formulae\n",
    "\n",
    "# Instantiate our MICE model\n",
    "mice = mice.MICE(formula, sm.OLS, miceData)\n",
    "\n",
    "# Fit the model\n",
    "results = mice.fit(n_burnin=10, n_imputations=10)\n",
    "\n",
    "print(results.summary())"
   ]
  },
  {
   "cell_type": "code",
   "execution_count": 84,
   "metadata": {
    "scrolled": true
   },
   "outputs": [
    {
     "name": "stdout",
     "output_type": "stream",
     "text": [
      "<class 'pandas.core.frame.DataFrame'>\n",
      "RangeIndex: 153 entries, 0 to 152\n",
      "Data columns (total 6 columns):\n",
      "Ozone     116 non-null float64\n",
      "SolarR    153 non-null float64\n",
      "Wind      153 non-null float64\n",
      "Temp      153 non-null int64\n",
      "Month     153 non-null int64\n",
      "Day       153 non-null int64\n",
      "dtypes: float64(3), int64(3)\n",
      "memory usage: 7.2 KB\n"
     ]
    }
   ],
   "source": [
    "# put the imputed SolarR column from the miceData dataframe into our main dataframe\n",
    "df['SolarR'] = miceData.data['SolarR']\n",
    "\n",
    "df.info()"
   ]
  },
  {
   "cell_type": "markdown",
   "metadata": {},
   "source": [
    "Notice that there are no NaN's in the miceData dataset. This is due to the nature of MICE imputation. However, you should only use the column of the miceData dataset which was the dependent variable of the MICE model.\n",
    "\n",
    "You would repeat this process (instantiating and fitting a mice model) for every column you intend to impute."
   ]
  },
  {
   "cell_type": "code",
   "execution_count": null,
   "metadata": {},
   "outputs": [],
   "source": []
  }
 ],
 "metadata": {
  "kernelspec": {
   "display_name": "Python 3",
   "language": "python",
   "name": "python3"
  },
  "language_info": {
   "codemirror_mode": {
    "name": "ipython",
    "version": 3
   },
   "file_extension": ".py",
   "mimetype": "text/x-python",
   "name": "python",
   "nbconvert_exporter": "python",
   "pygments_lexer": "ipython3",
   "version": "3.6.0"
  }
 },
 "nbformat": 4,
 "nbformat_minor": 2
}
