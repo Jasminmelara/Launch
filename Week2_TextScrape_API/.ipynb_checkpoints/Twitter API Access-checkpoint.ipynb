{
 "cells": [
  {
   "cell_type": "markdown",
   "metadata": {},
   "source": [
    "# Authentication for API Access"
   ]
  },
  {
   "cell_type": "code",
   "execution_count": null,
   "metadata": {},
   "outputs": [],
   "source": [
    "import pandas as pd\n",
    "import tweepy\n",
    "\n",
    "api_key = 'pfvOQlnsiPgkxniIbZTKdshZk' #get your own using insturctions above or I'll give you one during class\n",
    "api_secret = '8fiUvKy6c4vecwvWFeQAn79b576tHCkN85dAtcIF1J1P6rr9i8'\n",
    "access_token =  '219371026-Ky02Q3qMVFdwTZt7GjX6B5WMuCVdoM9FfVwJXKU6'\n",
    "access_secret =  'ZA0VEGn2PDeXXkroWG4WQFQHlJeu1ggCdl4aXVafDpKkK'\n",
    "\n",
    "\n",
    "#Authorization\n",
    "auth = tweepy.OAuthHandler(api_key, api_secret)\n",
    "auth.set_access_token(access_token, access_secret)\n",
    "\n",
    "\n",
    "api = tweepy.API(auth)"
   ]
  },
  {
   "cell_type": "markdown",
   "metadata": {},
   "source": [
    "# Scraping Function\n",
    "\n",
    "This function will scrape the most recent ~3000 tweets from the specified user's account and return a dataframe with the text, number of favorites, and number of retweets for each tweet."
   ]
  },
  {
   "cell_type": "code",
   "execution_count": 2,
   "metadata": {
    "collapsed": true
   },
   "outputs": [],
   "source": [
    "def tweets_favorites_retweets(username):\n",
    "    # get tweet text\n",
    "    \n",
    "    # Lists to store scraped data before putting it into the DataFrame\n",
    "    tweets = []\n",
    "    favorites = []\n",
    "    retweets = []\n",
    "\n",
    "    # Scrape first tweets to initialize the while loop\n",
    "    # Grab the first set of tweets and store them new_tweets\n",
    "    new_tweets = api.user_timeline(screen_name = username, count = 500, include_rts = False)\n",
    "    \n",
    "    # Store the information for each tweet and decriment the oldest tweet id\n",
    "    for tweet in new_tweets:\n",
    "        tweets.append(tweet.text)\n",
    "        favorites.append(tweet.favorite_count)\n",
    "        retweets.append(tweet.retweet_count)\n",
    "        oldest = tweet.id - 1\n",
    "    \n",
    "    # Keep scraping as long as there are new tweets to scrape\n",
    "    while len(new_tweets) > 0:\n",
    "        # Grab the next set of tweets starting at the oldest tweet id\n",
    "        new_tweets = api.user_timeline(screen_name = username, count = 500, max_id = oldest, include_rts = False)\n",
    "\n",
    "        # Store the information for each tweet and decriment the oldest tweet id\n",
    "        for tweet in new_tweets:\n",
    "            tweets.append(tweet.text)\n",
    "            favorites.append(tweet.favorite_count)\n",
    "            retweets.append(tweet.retweet_count)\n",
    "            oldest = tweet.id - 1\n",
    "    \n",
    "    \n",
    "    # put into data frame\n",
    "    twitter_df = pd.DataFrame({\"tweets\": tweets, \"favorites\": favorites, \"retweets\": retweets})\n",
    "    \n",
    "\n",
    "    # export to csv\n",
    "    twitter_df.to_csv(username + \".csv\", sep = ',', encoding = \"utf-8\")"
   ]
  },
  {
   "cell_type": "markdown",
   "metadata": {},
   "source": [
    "# Function Call"
   ]
  },
  {
   "cell_type": "code",
   "execution_count": 6,
   "metadata": {},
   "outputs": [
    {
     "name": "stdout",
     "output_type": "stream",
     "text": [
      "Username of Account to Scrape from: joss\n"
     ]
    }
   ],
   "source": [
    "account = input(\"Username of Account to Scrape from: \")\n",
    "\n",
    "tweets_favorites_retweets(account)"
   ]
  },
  {
   "cell_type": "code",
   "execution_count": null,
   "metadata": {
    "collapsed": true
   },
   "outputs": [],
   "source": []
  }
 ],
 "metadata": {
  "kernelspec": {
   "display_name": "Python 3",
   "language": "python",
   "name": "python3"
  },
  "language_info": {
   "codemirror_mode": {
    "name": "ipython",
    "version": 3
   },
   "file_extension": ".py",
   "mimetype": "text/x-python",
   "name": "python",
   "nbconvert_exporter": "python",
   "pygments_lexer": "ipython3",
   "version": "3.6.4"
  }
 },
 "nbformat": 4,
 "nbformat_minor": 2
}
