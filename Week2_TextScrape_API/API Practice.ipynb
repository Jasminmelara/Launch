{
 "cells": [
  {
   "cell_type": "markdown",
   "metadata": {},
   "source": [
    "# Authentication for API Access"
   ]
  },
  {
   "cell_type": "code",
   "execution_count": 5,
   "metadata": {},
   "outputs": [],
   "source": [
    "# Foursquare Example\n",
    "\n",
    "\n",
    "import json, requests\n",
    "url = 'https://api.foursquare.com/v2/venues/explore'\n",
    "\n",
    "params = dict(\n",
    "  client_id='DOTRUEVLDQVYFPICUPIUVZJGCKAZN5VQO5DYRKFJNXWX2VYC',\n",
    "  client_secret='F5N0ZWCMGPCWRVX3KUWCQGQWFK4UQDY0HFUG4PEL2S1CQ0G5',\n",
    "  v='20150329',\n",
    "  ll='38.0358,-78.5002',\n",
    "  query='coffee',\n",
    "  limit=1\n",
    ")\n",
    "resp = requests.get(url=url, params=params)\n",
    "data = json.loads(resp.text)\n"
   ]
  },
  {
   "cell_type": "code",
   "execution_count": 6,
   "metadata": {},
   "outputs": [],
   "source": [
    "# Pinterest example\n",
    "\n",
    "import pandas as pd\n",
    "import pi\n",
    "\n"
   ]
  },
  {
   "cell_type": "code",
   "execution_count": 11,
   "metadata": {},
   "outputs": [
    {
     "ename": "NameError",
     "evalue": "name 'auth_uri' is not defined",
     "output_type": "error",
     "traceback": [
      "\u001b[1;31m---------------------------------------------------------------------------\u001b[0m",
      "\u001b[1;31mNameError\u001b[0m                                 Traceback (most recent call last)",
      "\u001b[1;32m<ipython-input-11-9a8d0442f4c5>\u001b[0m in \u001b[0;36m<module>\u001b[1;34m()\u001b[0m\n\u001b[1;32m----> 1\u001b[1;33m \u001b[0mprint\u001b[0m\u001b[1;33m(\u001b[0m\u001b[0mauth_uri\u001b[0m\u001b[1;33m)\u001b[0m\u001b[1;33m\u001b[0m\u001b[0m\n\u001b[0m\u001b[0;32m      2\u001b[0m \u001b[0mprint\u001b[0m\u001b[1;33m(\u001b[0m\u001b[0mclient\u001b[0m\u001b[1;33m)\u001b[0m\u001b[1;33m\u001b[0m\u001b[0m\n",
      "\u001b[1;31mNameError\u001b[0m: name 'auth_uri' is not defined"
     ]
    }
   ],
   "source": [
    "print(auth_uri)\n",
    "print(client)"
   ]
  },
  {
   "cell_type": "code",
   "execution_count": 10,
   "metadata": {},
   "outputs": [
    {
     "ename": "NameError",
     "evalue": "name 'client' is not defined",
     "output_type": "error",
     "traceback": [
      "\u001b[1;31m---------------------------------------------------------------------------\u001b[0m",
      "\u001b[1;31mNameError\u001b[0m                                 Traceback (most recent call last)",
      "\u001b[1;32m<ipython-input-10-3defd070b4bc>\u001b[0m in \u001b[0;36m<module>\u001b[1;34m()\u001b[0m\n\u001b[0;32m      1\u001b[0m \u001b[1;31m# Interrogate foursquare's servers to get the user's access_token\u001b[0m\u001b[1;33m\u001b[0m\u001b[1;33m\u001b[0m\u001b[0m\n\u001b[1;32m----> 2\u001b[1;33m \u001b[0maccess_token\u001b[0m \u001b[1;33m=\u001b[0m \u001b[0mclient\u001b[0m\u001b[1;33m.\u001b[0m\u001b[0moauth\u001b[0m\u001b[1;33m.\u001b[0m\u001b[0mget_token\u001b[0m\u001b[1;33m(\u001b[0m\u001b[1;34m'XX_CODE_RETURNED_IN_REDIRECT_XX'\u001b[0m\u001b[1;33m)\u001b[0m\u001b[1;33m\u001b[0m\u001b[0m\n\u001b[0m\u001b[0;32m      3\u001b[0m \u001b[1;33m\u001b[0m\u001b[0m\n\u001b[0;32m      4\u001b[0m \u001b[1;31m# Apply the returned access token to the client\u001b[0m\u001b[1;33m\u001b[0m\u001b[1;33m\u001b[0m\u001b[0m\n\u001b[0;32m      5\u001b[0m \u001b[0mclient\u001b[0m\u001b[1;33m.\u001b[0m\u001b[0mset_access_token\u001b[0m\u001b[1;33m(\u001b[0m\u001b[0maccess_token\u001b[0m\u001b[1;33m)\u001b[0m\u001b[1;33m\u001b[0m\u001b[0m\n",
      "\u001b[1;31mNameError\u001b[0m: name 'client' is not defined"
     ]
    }
   ],
   "source": [
    "# Interrogate foursquare's servers to get the user's access_token\n",
    "access_token = client.oauth.get_token('XX_CODE_RETURNED_IN_REDIRECT_XX')\n",
    "\n",
    "# Apply the returned access token to the client\n",
    "client.set_access_token(access_token)\n",
    "\n",
    "# Get the user's data\n",
    "user = client.users()"
   ]
  },
  {
   "cell_type": "markdown",
   "metadata": {},
   "source": [
    "# Scraping Function\n",
    "\n",
    "This function will scrape the most recent ~3000 tweets from the specified user's account and return a dataframe with the text, number of favorites, and number of retweets for each tweet."
   ]
  },
  {
   "cell_type": "code",
   "execution_count": 2,
   "metadata": {
    "collapsed": true
   },
   "outputs": [],
   "source": [
    "def tweets_favorites_retweets(username):\n",
    "    # get tweet text\n",
    "    \n",
    "    # Lists to store scraped data before putting it into the DataFrame\n",
    "    tweets = []\n",
    "    favorites = []\n",
    "    retweets = []\n",
    "\n",
    "    # Scrape first tweets to initialize the while loop\n",
    "    # Grab the first set of tweets and store them new_tweets\n",
    "    new_tweets = api.user_timeline(screen_name = username, count = 500, include_rts = False)\n",
    "    \n",
    "    # Store the information for each tweet and decriment the oldest tweet id\n",
    "    for tweet in new_tweets:\n",
    "        tweets.append(tweet.text)\n",
    "        favorites.append(tweet.favorite_count)\n",
    "        retweets.append(tweet.retweet_count)\n",
    "        oldest = tweet.id - 1\n",
    "    \n",
    "    # Keep scraping as long as there are new tweets to scrape\n",
    "    while len(new_tweets) > 0:\n",
    "        # Grab the next set of tweets starting at the oldest tweet id\n",
    "        new_tweets = api.user_timeline(screen_name = username, count = 500, max_id = oldest, include_rts = False)\n",
    "\n",
    "        # Store the information for each tweet and decriment the oldest tweet id\n",
    "        for tweet in new_tweets:\n",
    "            tweets.append(tweet.text)\n",
    "            favorites.append(tweet.favorite_count)\n",
    "            retweets.append(tweet.retweet_count)\n",
    "            oldest = tweet.id - 1\n",
    "    \n",
    "    \n",
    "    # put into data frame\n",
    "    twitter_df = pd.DataFrame({\"tweets\": tweets, \"favorites\": favorites, \"retweets\": retweets})\n",
    "    \n",
    "\n",
    "    # export to csv\n",
    "    twitter_df.to_csv(username + \".csv\", sep = ',', encoding = \"utf-8\")"
   ]
  },
  {
   "cell_type": "markdown",
   "metadata": {},
   "source": [
    "# Function Call"
   ]
  },
  {
   "cell_type": "code",
   "execution_count": 6,
   "metadata": {},
   "outputs": [
    {
     "name": "stdout",
     "output_type": "stream",
     "text": [
      "Username of Account to Scrape from: joss\n"
     ]
    }
   ],
   "source": [
    "account = input(\"Username of Account to Scrape from: \")\n",
    "\n",
    "tweets_favorites_retweets(account)"
   ]
  },
  {
   "cell_type": "code",
   "execution_count": null,
   "metadata": {
    "collapsed": true
   },
   "outputs": [],
   "source": []
  }
 ],
 "metadata": {
  "kernelspec": {
   "display_name": "Python 3",
   "language": "python",
   "name": "python3"
  },
  "language_info": {
   "codemirror_mode": {
    "name": "ipython",
    "version": 3
   },
   "file_extension": ".py",
   "mimetype": "text/x-python",
   "name": "python",
   "nbconvert_exporter": "python",
   "pygments_lexer": "ipython3",
   "version": "3.6.4"
  }
 },
 "nbformat": 4,
 "nbformat_minor": 2
}
