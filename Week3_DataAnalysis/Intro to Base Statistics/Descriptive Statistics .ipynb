{
 "cells": [
  {
   "cell_type": "markdown",
   "metadata": {},
   "source": [
    "# Descriptive Statistics \n",
    "\n",
    "\n",
    "### Mean, Standard Deviation, and Variance \n"
   ]
  },
  {
   "cell_type": "code",
   "execution_count": 30,
   "metadata": {},
   "outputs": [
    {
     "name": "stdout",
     "output_type": "stream",
     "text": [
      "   SepalLength  SepalWidth  PetalLength  PetalWidth         Name\n",
      "0          5.1         3.5          1.4         0.2  Iris-setosa\n",
      "1          4.9         3.0          1.4         0.2  Iris-setosa\n",
      "2          4.7         3.2          1.3         0.2  Iris-setosa\n",
      "3          4.6         3.1          1.5         0.2  Iris-setosa\n",
      "4          5.0         3.6          1.4         0.2  Iris-setosa\n",
      "5          5.4         3.9          1.7         0.4  Iris-setosa\n",
      "6          4.6         3.4          1.4         0.3  Iris-setosa\n",
      "7          5.0         3.4          1.5         0.2  Iris-setosa\n",
      "8          4.4         2.9          1.4         0.2  Iris-setosa\n",
      "9          4.9         3.1          1.5         0.1  Iris-setosa\n",
      "The mean sepal length is: 5.843333333333335\n",
      "The variance of the petal width is: 0.5824143176733784\n",
      "The sample standard deviation of the petal width is: 0.7631607417008414\n",
      "                 SepalLength  SepalWidth  PetalLength  PetalWidth\n",
      "Name                                                             \n",
      "Iris-setosa            5.006       3.418        1.464       0.244\n",
      "Iris-versicolor        5.936       2.770        4.260       1.326\n",
      "Iris-virginica         6.588       2.974        5.552       2.026\n",
      "                 SepalLength  SepalWidth  PetalLength  PetalWidth\n",
      "Name                                                             \n",
      "Iris-setosa         0.124249    0.145180     0.030106    0.011494\n",
      "Iris-versicolor     0.266433    0.098469     0.220816    0.039106\n",
      "Iris-virginica      0.404343    0.104004     0.304588    0.075433\n"
     ]
    }
   ],
   "source": [
    "import pandas as pd \n",
    "import numpy as np\n",
    "import statistics\n",
    "from sklearn import datasets\n",
    "\n",
    "# The iris dataset is in sklearn, but must be formatted for use in Pandas\n",
    "# iris = datasets.load_iris()\n",
    "iris_csv = pd.read_csv(\"iris.csv\")\n",
    "print(iris.head(10))\n",
    "\n",
    "# Average Sepal.Length in iris \n",
    "\n",
    "print(\"The mean sepal length is:\" , iris[\"SepalLength\"].mean())\n",
    "\n",
    "\n",
    "# Variance and Standard Deviation of Petal.Width in iris\n",
    "\n",
    "print(\"The variance of the petal width is:\" , iris[\"PetalWidth\"].var())\n",
    "print(\"The sample standard deviation of the petal width is:\" , iris[\"PetalWidth\"].std())\n",
    "\n",
    "\n",
    "# Q1. Calculate the average Sepal.Length broken down by Species as \"Name\" \n",
    "# Q2. Find the Species with the largest variance in Petal.Width.\n",
    "\n",
    "# A1. \n",
    "name_mean = iris.groupby(\"Name\").mean()\n",
    "print(name_mean.head())\n",
    "\n",
    "# A2.\n",
    "print(iris.groupby(\"Name\").var())"
   ]
  },
  {
   "cell_type": "code",
   "execution_count": 65,
   "metadata": {},
   "outputs": [
    {
     "name": "stdout",
     "output_type": "stream",
     "text": [
      "The median sepal length is: 5.8\n",
      "The 50% quantile of sepal length is: 1.3\n",
      "[0.2, 1.3, 2.0]\n",
      "[0.3, 1.5, 2.3]\n"
     ]
    }
   ],
   "source": [
    "# Median and Quantiles ------------------------------------------------------------------------------------------------\n",
    "\n",
    "# Median Sepal.Length in iris\n",
    "\n",
    "print(\"The median sepal length is:\" , iris[\"SepalLength\"].median())\n",
    "\n",
    "\n",
    "# Quartiles of Petal.Width in iris\n",
    "\n",
    "print(\"The 50% quantile of sepal length is:\" , iris[\"PetalWidth\"].quantile())\n",
    "\n",
    "# Q1 (i)  Find the deciles of Sepal.Length broken down by Species \n",
    "#    (ii) Bind the deciles together to form a single data frame.\n",
    "\n",
    "# A1\n",
    "# (i) (ii)\n",
    "#Decil = pd.qcut(iris.SepalLength,10)\n",
    "#print(Decil)\n",
    "\n",
    "for name in iris.Name.unique():\n",
    "    iris_species_sepal = (pd.qcut(iris.loc[iris.Name == name]['SepalLength'],9))\n",
    "    \n",
    "\n",
    "# Q2 (i)  Use pandas/numpy to find the median and 75% percentile of Petal.Width broken down by Species.\n",
    "#    (ii) Sort the data in descending order by median Petal.Width.\n",
    "\n",
    "# A2 \n",
    "# (i)\n",
    "# name_med = iris.groupby(\"Name\").med()\n",
    "#print(\"The median of Petal Width by Species is:\", name_med)\n",
    "\n",
    "iris_species_median = []\n",
    "iris_seventy = []\n",
    "\n",
    "for species in iris.Name.unique():\n",
    "    iris_species_median.append(iris.loc[iris.Name == species][\"PetalWidth\"].median())\n",
    "    iris_seventy.append(iris.loc[iris.Name == species][\"PetalWidth\"].quantile(0.75))\n",
    "    \n",
    "print(iris_species_median)\n",
    "print(iris_seventy)\n",
    "# 75% quantile\n",
    "# print(pd.iris.quantile(0.75))"
   ]
  },
  {
   "cell_type": "code",
   "execution_count": null,
   "metadata": {},
   "outputs": [],
   "source": []
  }
 ],
 "metadata": {
  "kernelspec": {
   "display_name": "Python 3",
   "language": "python",
   "name": "python3"
  },
  "language_info": {
   "codemirror_mode": {
    "name": "ipython",
    "version": 3
   },
   "file_extension": ".py",
   "mimetype": "text/x-python",
   "name": "python",
   "nbconvert_exporter": "python",
   "pygments_lexer": "ipython3",
   "version": "3.6.4"
  }
 },
 "nbformat": 4,
 "nbformat_minor": 2
}
