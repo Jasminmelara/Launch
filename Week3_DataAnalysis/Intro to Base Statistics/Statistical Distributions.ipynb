{
 "cells": [
  {
   "cell_type": "markdown",
   "metadata": {},
   "source": [
    "# Statistical Distributions Exercises"
   ]
  },
  {
   "cell_type": "markdown",
   "metadata": {},
   "source": [
    "## Discrete Distributions"
   ]
  },
  {
   "cell_type": "code",
   "execution_count": 14,
   "metadata": {},
   "outputs": [],
   "source": [
    "import pandas as pd \n",
    "import numpy as np\n",
    "import scipy.stats as sp\n",
    "\n",
    "# Q. Shuffling a deck of cards.\n",
    "#\n",
    "# (i)  Create string vector representing deck.\n",
    "# (ii) Use sample() to shuffle it.\n",
    "\n",
    "# Q. (i)   Generate 10 samples from c(\"H\", \"T\") for a fair coin.\n",
    "#    (ii)  Generate 10 samples from c(\"H\", \"T\") for a biased coin (p = 0.55 for \"H\").\n",
    "#    (iii) Find the number of \"H\" and \"T\" from 1000 tosses of the biased coin."
   ]
  },
  {
   "cell_type": "markdown",
   "metadata": {},
   "source": [
    "## Binomial Distribution"
   ]
  },
  {
   "cell_type": "code",
   "execution_count": 32,
   "metadata": {},
   "outputs": [
    {
     "name": "stdout",
     "output_type": "stream",
     "text": [
      "Probability of 5 Successes: 0.24609375 \n",
      "\n",
      "Probability of Successes from 0 to 10: [ 0.00097656  0.00976563  0.04394531  0.1171875   0.20507813  0.24609375\n",
      "  0.20507813  0.1171875   0.04394531  0.00976563  0.00097656]\n"
     ]
    }
   ],
   "source": [
    "# BINOMIAL DISTRIBUTION -----------------------------------------------------------------------------------------------\n",
    "\n",
    "# What is the probability of getting 5 successes from 10 trials if there is a 50% chance of success on each trial?\n",
    "\n",
    "x = 5 \n",
    "n = 10\n",
    "p = 0.5\n",
    "\n",
    "print(\"Probability of 5 Successes:\", sp.binom.pmf(x, n , p), \"\\n\")\n",
    "\n",
    "x1 = list(range(0,11))\n",
    "n1 = 10\n",
    "p1 = 0.5\n",
    "\n",
    "print(\"Probability of Successes from 0 to 10:\", sp.binom.pmf(x1, n1 , p1))\n",
    "\n",
    "# What would we get if we summed those values?\n",
    "\n",
    "# Q. What is the probability of getting 5 or more successes in the above scenario?\n",
    "\n",
    "# Q. What is the median number of successes in the above scenario?"
   ]
  },
  {
   "cell_type": "markdown",
   "metadata": {},
   "source": [
    "## Uniform Distribution"
   ]
  },
  {
   "cell_type": "code",
   "execution_count": 37,
   "metadata": {},
   "outputs": [
    {
     "data": {
      "text/plain": [
       "1.0"
      ]
     },
     "execution_count": 37,
     "metadata": {},
     "output_type": "execute_result"
    }
   ],
   "source": [
    "# UNIFORM DISTRIBUTION ------------------------------------------------------------------------------------------------\n",
    "\n",
    "# Look along with an R User for this part \n",
    "\n",
    "sp.binom.cdf(0.5, 0, 2)\n"
   ]
  },
  {
   "cell_type": "markdown",
   "metadata": {},
   "source": [
    "## Poisson Distribution"
   ]
  },
  {
   "cell_type": "code",
   "execution_count": null,
   "metadata": {},
   "outputs": [],
   "source": [
    "# The Poisson Distribution --------------------------------------------------------------------------------------------\n",
    "\n",
    "# The Poisson Distribution is used to model the number of occurrences per unit time.\n",
    "\n",
    "# Suppose that we have a chunk of radioactive stuff that emits beta particles as an average rate of 100 per second.\n",
    "#\n",
    "# Q. What is the probability that fewer than 80 beta particles are emitted in a given second?\n",
    "\n",
    "# Q. Simulate the number of decays per second for every second in a minute. What's the average and variance?\n"
   ]
  },
  {
   "cell_type": "markdown",
   "metadata": {},
   "source": [
    "## Normal Distribution"
   ]
  },
  {
   "cell_type": "code",
   "execution_count": 45,
   "metadata": {},
   "outputs": [],
   "source": [
    "# Standardising.\n",
    "#\n",
    "# Q. Generate 100 samples from a Normal distribution with mean 50 and standard deviation 10.\n",
    "# Q. Standardise those data. These are z scores.\n",
    "# Q. Calculate the mean and standard deviation of the standardised data.\n",
    "\n",
    "# Distribution of human heights (in inches):\n",
    "#\n",
    "#            mu  sigma\n",
    "# Male      70.0  4.0\n",
    "# Female    65.0  3.5\n",
    "#\n",
    "# Q. Find the probability of a man's height exceeding 80.0.\n",
    "# Q. Find the probability that a woman's height is between 60.0 and 65.0."
   ]
  },
  {
   "cell_type": "code",
   "execution_count": null,
   "metadata": {},
   "outputs": [],
   "source": []
  }
 ],
 "metadata": {
  "kernelspec": {
   "display_name": "Python 3",
   "language": "python",
   "name": "python3"
  },
  "language_info": {
   "codemirror_mode": {
    "name": "ipython",
    "version": 3
   },
   "file_extension": ".py",
   "mimetype": "text/x-python",
   "name": "python",
   "nbconvert_exporter": "python",
   "pygments_lexer": "ipython3",
   "version": "3.6.5"
  }
 },
 "nbformat": 4,
 "nbformat_minor": 2
}
