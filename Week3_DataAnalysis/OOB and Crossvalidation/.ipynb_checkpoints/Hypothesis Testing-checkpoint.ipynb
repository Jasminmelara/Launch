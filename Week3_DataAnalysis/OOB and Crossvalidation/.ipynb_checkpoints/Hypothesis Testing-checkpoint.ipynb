{
 "cells": [
  {
   "cell_type": "markdown",
   "metadata": {},
   "source": [
    "# Hypothesis Testing"
   ]
  },
  {
   "cell_type": "code",
   "execution_count": 4,
   "metadata": {},
   "outputs": [],
   "source": [
    "import pandas as pd \n",
    "import numpy as np \n",
    "import selenium as sm \n",
    "import seaborn\n",
    "import matplotlib\n",
    "import scipy as sp"
   ]
  },
  {
   "cell_type": "markdown",
   "metadata": {},
   "source": [
    "## Binomial Test"
   ]
  },
  {
   "cell_type": "code",
   "execution_count": 7,
   "metadata": {},
   "outputs": [
    {
     "name": "stdout",
     "output_type": "stream",
     "text": [
      "Probability of winning 1x: 0.35135135135135137\n",
      "Prob win 10x in a row:  2.8669246741257068e-05\n",
      "Number of wins in 10 spins is 3.5135135135135136\n",
      "The p value is: 0.0397876598720934\n",
      "The p value is : 0.0005579476481183106\n"
     ]
    }
   ],
   "source": [
    "# A gambler is playing European Roulette. He's wagering on the dozen 13 to 24.\n",
    "#\n",
    "# 37 total options for winning\n",
    "total = 37\n",
    "# Q. Calculate his probability of winning.\n",
    "bets = (24-13)+2\n",
    "prob = bets/total\n",
    "print(\"Probability of winning 1x:\",prob)\n",
    "\n",
    "# Q. Find the probability that he wins 0, 1, 2, ... 10 times on 10 consecutive spins.\n",
    "print(\"Prob win 10x in a row: \", prob**10)\n",
    "\n",
    "# Q. What is the expected number of wins in 10 consecutive spins?\n",
    "print(\"Number of wins in 10 spins is\", prob*10)\n",
    "\n",
    "# Q. If he has won on 6 of those spins should we be concerned? What about if he has 7 wins? Yes\n",
    "# Q. If he did not win on any of those spins should we offer him a bonus? Yes\n",
    "# The Null Hypothesis: If he wins after 7 turns, we are NOT concerned about the result.\n",
    "# If p< 0.05 the test is statistically significant\n",
    "print(\"The p value is:\",sp.stats.binom_test(7,10,prob))\n",
    "# p is less than 0.05. The null hypothesis is not accepted.\n",
    "\n",
    "# Let's take a different view on this problem. Use binom.test() to evaluate whether our observations are consistent\n",
    "# with the theoretical value of the success probability.\n",
    "\n",
    "#\n",
    "# Q. If a gambler has won on the dozen 13 to 24 for 9 out of 10 spins, does this indicate a problem with the game?\n",
    "# Yes.\n",
    "print(\"The p value is :\", sp.stats.binom_test(9,10,prob))"
   ]
  },
  {
   "cell_type": "markdown",
   "metadata": {},
   "source": [
    "## T-Test"
   ]
  },
  {
   "cell_type": "code",
   "execution_count": 2,
   "metadata": {},
   "outputs": [],
   "source": [
    "# A gambler is playing European Roulette. He's wagering on the dozen 13 to 24.\n",
    "#\n",
    "# Q. Calculate his probability of winning.\n",
    "# Q. Find the probability that he wins 0, 1, 2, ... 10 times on 10 consecutive spins.\n",
    "# Q. What is the expected number of wins in 10 consecutive spins?\n",
    "# Q. If he has won on 6 of those spins should we be concerned? What about if he has 7 wins?\n",
    "# Q. If he did not win on any of those spins should we offer him a bonus?\n",
    "\n",
    "# Let's take a different view on this problem. Use binom.test() to evaluate whether our observations are consistent\n",
    "# with the theoretical value of the success probability.\n",
    "#\n",
    "# Q. If a gambler has won on the dozen 13 to 24 for 9 out of 10 spins, does this indicate a problem with the game? # Q. Generate two samples of size 10 from a Normal Distribution with the following parameters.\n",
    "#\n",
    "#               mu sigma\n",
    "#     sample 1: 10   3\n",
    "#     sample 2: 15   3\n",
    "#\n",
    "# Q. Compare these samples using the t Test.\n",
    "# Q. Repeat but with samples of size 100.\n",
    "# Q. How do the test results differ? Look at the p-values and confidence intervals.\n",
    "\n",
    "# Q. Test the following hypothesis: \"The mean value of horse power in the mtcars data is 170\".\n",
    "# Q. Test the following hypothesis: \"The mean value of horse power in the mtcars data is less than 170\".\n",
    "# Q. Test the following hypothesis: \"The mean value of horse power in the mtcars data is greater than 170\"."
   ]
  },
  {
   "cell_type": "markdown",
   "metadata": {},
   "source": [
    "## Paired T-Test \n",
    "\n",
    "Look along with a partner in R for this one"
   ]
  },
  {
   "cell_type": "code",
   "execution_count": null,
   "metadata": {},
   "outputs": [],
   "source": []
  }
 ],
 "metadata": {
  "kernelspec": {
   "display_name": "Python 3",
   "language": "python",
   "name": "python3"
  },
  "language_info": {
   "codemirror_mode": {
    "name": "ipython",
    "version": 3
   },
   "file_extension": ".py",
   "mimetype": "text/x-python",
   "name": "python",
   "nbconvert_exporter": "python",
   "pygments_lexer": "ipython3",
   "version": "3.6.4"
  }
 },
 "nbformat": 4,
 "nbformat_minor": 2
}
