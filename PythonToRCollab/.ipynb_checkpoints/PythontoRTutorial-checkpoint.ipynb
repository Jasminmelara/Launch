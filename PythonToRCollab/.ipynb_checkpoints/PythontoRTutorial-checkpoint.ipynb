{
 "cells": [
  {
   "cell_type": "code",
   "execution_count": 2,
   "metadata": {},
   "outputs": [],
   "source": [
    "# Objective: Practice running R in Python as well as SQL and Spark\n",
    "# Source: http://lgautier.github.io/odsc-pdaibp-slides/\n",
    "# Created by: KHS\n",
    "# Date: 06/19/2018"
   ]
  },
  {
   "cell_type": "code",
   "execution_count": null,
   "metadata": {},
   "outputs": [],
   "source": [
    "# RPy is a simple, easy-to-use interface to R from Python.\n",
    "#   It enables one to enjoy the elegance of Python programming while having access \n",
    "#   to the rich graphical and statistical capabilities of R. \n",
    "from rpy2.robjects import r"
   ]
  },
  {
   "cell_type": "code",
   "execution_count": null,
   "metadata": {},
   "outputs": [],
   "source": [
    "# Tables in R\n",
    "# Make most common-operations in R\n",
    "# import dplyr\n",
    "\n",
    "from rpy2.robjects.lib import dplyr\n",
    "\n",
    "\n",
    "datasrc  = dplyr.src_sqlite(dbfilename)\n",
    "review_tbl = datasrc.get_table(\"review\")"
   ]
  },
  {
   "cell_type": "code",
   "execution_count": null,
   "metadata": {},
   "outputs": [],
   "source": [
    "# Query as chained call\n",
    "res =  (review_tbl\n",
    "        .filter('reviewscore < 2')\n",
    "        .count('reviewhelpful')\n",
    "        .arrange('desc(n)'))\n",
    "\n",
    "print(res)"
   ]
  },
  {
   "cell_type": "code",
   "execution_count": null,
   "metadata": {},
   "outputs": [],
   "source": [
    "# Figures in R\n",
    "# Objective: show the data in R\n",
    "# R as a DSL in Python\n",
    "\n",
    "from rpy2.robjects import r, globalenv\n",
    "import rpy2.robjects.lib.ggplot2 as gg\n",
    "\n",
    "split_review = \\\n",
    "    'as.integer(sapply(strsplit(reviewhelpful, \"/\"), \"[\", %i))'\n",
    "\n",
    "p = (gg.ggplot((res.collect().\n",
    "                mutate(r1 = split_review % 1,\n",
    "                       r2 = split_review % 2))) +\n",
    "     gg.aes_string(x='r1+1', y='r2+1', size='n') +\n",
    "     gg.geom_point(alpha = 0.5) +\n",
    "     gg.scale_x_log10(\"review voted helpful\") +\n",
    "     gg.scale_y_log10(\"review\") +\n",
    "     gg.scale_size(trans=\"sqrt\"))"
   ]
  },
  {
   "cell_type": "code",
   "execution_count": null,
   "metadata": {},
   "outputs": [],
   "source": [
    "from rpy2.robjects.lib import grdevices\n",
    "\n",
    "with grdevices.render_to_bytesio(grdevices.png, \n",
    "                                 width=800,\n",
    "                                 height=600, \n",
    "                                 res=120) as b:\n",
    "    p.plot()\n",
    "\n",
    "from IPython.display import Image, display\n",
    "data = b.getvalue()\n",
    "display(Image(data=data, format='png', embed=True))"
   ]
  },
  {
   "cell_type": "code",
   "execution_count": null,
   "metadata": {},
   "outputs": [],
   "source": [
    "# What about Javascript then?\n",
    "# - D3\n",
    "# - RStudio's Shiny ~ we can call any R\n",
    "# - ploty (R packaged to plot ggplot2 objects)\n",
    "# - Continuum's bokeh ~ Python package\n",
    "\n"
   ]
  },
  {
   "cell_type": "code",
   "execution_count": null,
   "metadata": {},
   "outputs": [],
   "source": [
    "from bokeh.plotting import figure\n",
    "from bokeh.plotting import figure, show, output_notebook\n",
    "output_notebook()\n",
    "\n",
    "plot = figure()\n",
    "res =  (review_tbl\n",
    "        .filter('reviewscore < 2')\n",
    "        .count('reviewhelpful')\n",
    "        .collect())\n",
    "\n",
    "import math\n",
    "plot.scatter(list(int(x.split('/')[0]) \\\n",
    "                  for x in res.rx2('reviewhelpful')),\n",
    "             list(int(x.split('/')[1]) \\\n",
    "                  for x in res.rx2('reviewhelpful')),\n",
    "             radius=list(math.log10(x/100) for x in res.rx2('n')),\n",
    "             fill_alpha=.3)"
   ]
  },
  {
   "cell_type": "code",
   "execution_count": null,
   "metadata": {},
   "outputs": [],
   "source": [
    "show(plot)"
   ]
  },
  {
   "cell_type": "code",
   "execution_count": null,
   "metadata": {},
   "outputs": [],
   "source": [
    "# SPARK\n",
    "# - Resilient Distributed Dataset (RDD)\n",
    "# - Abstracts the distribution of compute and data\n",
    "# - Function composition optimized before evaluation"
   ]
  },
  {
   "cell_type": "code",
   "execution_count": 4,
   "metadata": {},
   "outputs": [],
   "source": [
    "# PATH = \"/Users/ks5gh/Pictures\"\n",
    "# Image(filename = PATH + \"pyspark.png\", width=100, height=100)"
   ]
  },
  {
   "cell_type": "code",
   "execution_count": null,
   "metadata": {},
   "outputs": [],
   "source": [
    "# Setup\n",
    "import findspark\n",
    "findspark.init()\n",
    "\n",
    "import pyspark\n",
    "\n",
    "conf = pyspark.conf.SparkConf()\n",
    "(conf.setMaster('local[2]')\n",
    " .setAppName('ipython-notebook')\n",
    " .set(\"spark.executor.memory\", \"2g\"))\n",
    "\n",
    "sc = pyspark.SparkContext(conf=conf)"
   ]
  },
  {
   "cell_type": "code",
   "execution_count": null,
   "metadata": {},
   "outputs": [],
   "source": [
    "# SWL Table to Spark Dataframe\n",
    "from pyspark.sql import SQLContext, Row\n",
    "sqlcontext = SQLContext(sc)\n",
    "cursor.execute('select * from review limit 10000')\n",
    "review = \\\n",
    "    sqlcontext.createDataFrame(cursor,\n",
    "                               tuple(x[0] for x in cursor.description))\n",
    "review.registerTempTable(\"review\")"
   ]
  },
  {
   "cell_type": "code",
   "execution_count": null,
   "metadata": {},
   "outputs": [],
   "source": [
    "sql = \"\"\"\n",
    "SELECT reviewhelpful, count(*) AS ct\n",
    "FROM review\n",
    "WHERE reviewscore < 2\n",
    "GROUP BY reviewhelpful\n",
    "ORDER BY ct DESC\n",
    "\"\"\"\n",
    "counts = sqlcontext.sql(sql)\n",
    "\n",
    "# good ol' SQL\n",
    "# Translated to Spark, optimized, and to JVM bytecode"
   ]
  },
  {
   "cell_type": "code",
   "execution_count": null,
   "metadata": {},
   "outputs": [],
   "source": [
    "# Lazy Evaluation\n",
    "res = counts.collect()\n",
    "res[:3]"
   ]
  },
  {
   "cell_type": "code",
   "execution_count": null,
   "metadata": {},
   "outputs": [],
   "source": [
    "# Map-reduce with spark\n",
    "names = (review\n",
    "         .flatMap(lambda p: p.reviewsummary.split())\n",
    "         .map(lambda word: (word.lower(), 1))\n",
    "         .reduceByKey(lambda a, b: a+b))\n",
    "names.takeOrdered(15, key = lambda x: -x[1])"
   ]
  },
  {
   "cell_type": "code",
   "execution_count": null,
   "metadata": {},
   "outputs": [],
   "source": [
    "sql = \"\"\"\n",
    "SELECT *\n",
    "FROM review\n",
    "WHERE reviewscore < 2\n",
    "\"\"\"\n",
    "lowscore = sqlcontext.sql(sql)\n",
    "names = (lowscore\n",
    "         .flatMap(lambda p: p.reviewsummary.split())\n",
    "         .map(lambda word: (word.lower(), 1))\n",
    "         .reduceByKey(lambda a, b: a+b))\n",
    "names.takeOrdered(8, key = lambda x: -x[1])"
   ]
  },
  {
   "cell_type": "code",
   "execution_count": null,
   "metadata": {},
   "outputs": [],
   "source": [
    "# The Finale\n",
    "# Python + R + Spark + SQL\n",
    "\n",
    "lst = names.takeOrdered(8, key = lambda x: -x[1])\n",
    "from rpy2.robjects.vectors import StrVector, IntVector\n",
    "dataf = dplyr.DataFrame({'word': StrVector([x[0] for x in lst]),\n",
    "                         'count': IntVector([x[1] for x in lst])})\n",
    "p = (gg.ggplot(dataf) +\n",
    "     gg.geom_bar(gg.aes_string(x='word', y='count'),\n",
    "                 stat=\"identity\"))\n",
    "\n",
    "with grdevices.render_to_bytesio(grdevices.png, \n",
    "                                 width=800,\n",
    "                                 height=600, \n",
    "                                 res=120) as b:\n",
    "    p.plot()\n",
    "display(Image(data=b.getvalue(), format='png', embed=True))"
   ]
  },
  {
   "cell_type": "code",
   "execution_count": null,
   "metadata": {},
   "outputs": [],
   "source": [
    "# Future reads\n",
    "# - C for runtime speed\n",
    "# - LLVM for runtime speed\n",
    "# - Web services\n",
    "\n",
    "# Advice:\n",
    "# Use what is alread out there. Be pragmatic.\n"
   ]
  }
 ],
 "metadata": {
  "kernelspec": {
   "display_name": "Python 3",
   "language": "python",
   "name": "python3"
  },
  "language_info": {
   "codemirror_mode": {
    "name": "ipython",
    "version": 3
   },
   "file_extension": ".py",
   "mimetype": "text/x-python",
   "name": "python",
   "nbconvert_exporter": "python",
   "pygments_lexer": "ipython3",
   "version": "3.6.5"
  }
 },
 "nbformat": 4,
 "nbformat_minor": 2
}
